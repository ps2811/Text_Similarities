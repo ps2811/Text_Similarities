{
 "cells": [
  {
   "cell_type": "markdown",
   "metadata": {},
   "source": [
    "### Text Similairty with spaCy"
   ]
  },
  {
   "cell_type": "code",
   "execution_count": 3,
   "metadata": {},
   "outputs": [],
   "source": [
    "import pandas as pd"
   ]
  },
  {
   "cell_type": "code",
   "execution_count": 2,
   "metadata": {},
   "outputs": [],
   "source": [
    "import en_core_web_lg\n",
    "nlp = en_core_web_lg.load()"
   ]
  },
  {
   "cell_type": "code",
   "execution_count": 89,
   "metadata": {},
   "outputs": [],
   "source": [
    "from itertools import combinations\n",
    "comp1_desc = nlp(u\" Hartford The Hartford Financial Services Group, Inc., usually known as The Hartford, is a United States-based investment and insurance company. The Hartford is a Fortune 500 company headquartered in its namesake city of Hartford, Connecticut. It was ranked 156th position in Fortune 500 in the year of 2018. The company’s earnings are divided between property-and-casualty operations, group benefits and mutual funds.\\nThe Hartford is the 12th-largest property and casualty company in the United States.The Hartford Financial Services Group, Inc. is an insurance and financial services company. The company provides life insurance, group and employee benefits, automobile and homeowners insurance and business insurance, as well as investment products, annuities, mutual funds, and college savings plans.\")\n",
    "comp2_desc = nlp(u\"Deloitte Touche Tohmatsu Limited, commonly referred to as Deloitte, is a multinational professional services network. Deloitte is one of the \\\"Big Four\\\" accounting organizations and the largest professional services network in the world by revenue and number of professionals.\")\n",
    "doc_combos = list(combinations([comp1_desc], r=1))\n",
    "doc_combos\n",
    "\n",
    "nacis1_desc = nlp(u\"524113 Direct Life Insurance Carriers. This U.S. industry comprises establishments primarily engaged in initially underwriting (i.e., assuming the risk and assigning premiums) annuities and life insurance policies, disability income insurance policies, and accidental death and dismemberment insurance policies.\")\n",
    "#right one for hartford\n",
    "nacis2_desc = nlp(u\"524126 Direct Insurance (except Life, Health, and Medical) Carriers .Direct Property and Casualty Insurance Carriers . This U.S. industry comprises establishments primarily engaged in initially underwriting (i.e., assuming the risk and assigning premiums) insurance policies that protect policyholders against losses that may occur as a result of property damage or liability.\")   \n",
    "nacis3_desc = nlp(u\"524127 Direct Insurance (except Life, Health, and Medical) Carriers . Direct Title Insurance Carriers  . This U.S. industry comprises establishments primarily engaged in initially underwriting (i.e., assuming the risk and assigning premiums) insurance policies to protect the owners of real estate or real estate creditors against loss sustained by reason of any title defect to real property.\") \n",
    "nacis4_desc = nlp(u\"524128 - This U.S. industry comprises establishments primarily engaged in initially underwriting (e.g., assuming the risk, assigning premiums) insurance policies (except life, disability income, accidental death and dismemberment, health and medical, property and casualty, and title insurance policies).Illustrative Examples:Bank deposit insurance carriers, direct,Product warranty insurance carriers, direct,Deposit or share insurance carriers, direct,Warranty insurance carriers (e.g., appliance, automobile, homeowners’, product), direct\") \n",
    "nacis5_desc = nlp(u\"This industry comprises establishments primarily engaged in assuming all or part of the risk associated with existing insurance policies originally underwritten by other insurance carriers.\")\n",
    "nacis6_desc = nlp(u\"This industry comprises establishments primarily engaged in drawing detailed layouts, plans, and illustrations of buildings, structures, systems, or components from engineering and architectural specifications.\")\n",
    "nacis7_desc = nlp(u\"This U.S. industry comprises establishments (except offices of CPAs) engaged in providing accounting services (except tax return preparation services only or payroll services only). These establishments may also provide tax return preparation or payroll services. Accountant (except CPA) offices, bookkeeper offices, and billing offices are included in this industry\")\n",
    "#nacis_combos = list(combinations([nacis1_desc, nacis2_desc, nacis3_desc, nacis4_desc], r=2))\n",
    "#nacis_combo"
   ]
  },
  {
   "cell_type": "code",
   "execution_count": 90,
   "metadata": {},
   "outputs": [
    {
     "name": "stdout",
     "output_type": "stream",
     "text": [
      "0.8368757966917746\n",
      "0.8616609799624808\n",
      "0.8877180306804311\n",
      "0.8293605689758007\n",
      "0.8756452724203193\n",
      "0.8385970016447151\n",
      "0.8925783607394022\n"
     ]
    }
   ],
   "source": [
    "print(comp2_desc.similarity(nacis1_desc))\n",
    "print(comp2_desc.similarity(nacis2_desc))\n",
    "print(comp2_desc.similarity(nacis3_desc))\n",
    "print(comp2_desc.similarity(nacis4_desc))\n",
    "print(comp2_desc.similarity(nacis5_desc))\n",
    "print(comp2_desc.similarity(nacis6_desc))\n",
    "print(comp2_desc.similarity(nacis7_desc))"
   ]
  },
  {
   "cell_type": "code",
   "execution_count": 88,
   "metadata": {},
   "outputs": [
    {
     "name": "stdout",
     "output_type": "stream",
     "text": [
      "0.9187866814379725\n",
      "0.9236264684281777\n",
      "0.9392211943837969\n",
      "0.9091722079854976\n",
      "0.8982558058255535\n",
      "0.8305458292752665\n",
      "0.8888504882745218\n"
     ]
    }
   ],
   "source": [
    "print(comp1_desc.similarity(nacis1_desc))\n",
    "print(comp1_desc.similarity(nacis2_desc))\n",
    "print(comp1_desc.similarity(nacis3_desc))\n",
    "print(comp1_desc.similarity(nacis4_desc))\n",
    "print(comp1_desc.similarity(nacis5_desc))\n",
    "print(comp1_desc.similarity(nacis6_desc))\n",
    "print(comp1_desc.similarity(nacis7_desc))"
   ]
  },
  {
   "cell_type": "code",
   "execution_count": 156,
   "metadata": {},
   "outputs": [],
   "source": [
    "#Round 2 with cross references\n",
    "nacis_ref1 = nlp(u\"Establishments primarily engaged in reinsuring property and casualty insurance policies are classified in Industry 524130, Reinsurance Carriers.\")\n",
    "nacis_ref2 = nlp(u\"Establishments primarily engaged in reinsuring title insurance policies are classified in Industry 524130, Reinsurance Carriers\")"
   ]
  },
  {
   "cell_type": "code",
   "execution_count": 157,
   "metadata": {},
   "outputs": [
    {
     "name": "stdout",
     "output_type": "stream",
     "text": [
      "0.8647868661839614\n",
      "0.8259590394034787\n"
     ]
    }
   ],
   "source": [
    "print(comp1_desc.similarity(nacis_ref1))\n",
    "print(comp1_desc.similarity(nacis_ref2))\n",
    "## Adding more reference context/ improved the similarity score."
   ]
  },
  {
   "cell_type": "code",
   "execution_count": 158,
   "metadata": {},
   "outputs": [],
   "source": [
    "## TO DO\n",
    "#Make stop words list on NACIS and remove the common words."
   ]
  },
  {
   "cell_type": "code",
   "execution_count": 161,
   "metadata": {},
   "outputs": [],
   "source": [
    "## Adding cross references in the original description - not effective.\n",
    "nacis1_desc = nlp(u\"524113 Direct Life Insurance Carriers. This U.S. industry comprises establishments primarily engaged in initially underwriting (i.e., assuming the risk and assigning premiums) annuities and life insurance policies, disability income insurance policies, and accidental death and dismemberment insurance policies.Establishments primarily engaged in reinsuring property and casualty insurance policies are classified in Industry 524130, Reinsurance Carriers.\")\n",
    "#right one for hartford\n",
    "nacis2_desc = nlp(u\"524126 Direct Insurance (except Life, Health, and Medical) Carriers .Direct Property and Casualty Insurance Carriers . This U.S. industry comprises establishments primarily engaged in initially underwriting (i.e., assuming the risk and assigning premiums) insurance policies that protect policyholders against losses that may occur as a result of property damage or liability.Establishments primarily engaged in reinsuring title insurance policies are classified in Industry 524130, Reinsurance Carriers\")   \n",
    "nacis_ref1 = nlp(u\"Establishments primarily engaged in reinsuring property and casualty insurance policies are classified in Industry 524130, Reinsurance Carriers.\")\n",
    "nacis_ref2 = nlp(u\"Establishments primarily engaged in reinsuring title insurance policies are classified in Industry 524130, Reinsurance Carriers\")\n",
    "\n",
    "nacis3_desc = nlp(u\"524127 Direct Insurance (except Life, Health, and Medical) Carriers . Direct Title Insurance Carriers  . This U.S. industry comprises establishments primarily engaged in initially underwriting (i.e., assuming the risk and assigning premiums) insurance policies to protect the owners of real estate or real estate creditors against loss sustained by reason of any title defect to real property.\") \n",
    "nacis4_desc = nlp(u\"524128 - This U.S. industry comprises establishments primarily engaged in initially underwriting (e.g., assuming the risk, assigning premiums) insurance policies (except life, disability income, accidental death and dismemberment, health and medical, property and casualty, and title insurance policies).Illustrative Examples:Bank deposit insurance carriers, direct,Product warranty insurance carriers, direct,Deposit or share insurance carriers, direct,Warranty insurance carriers (e.g., appliance, automobile, homeowners’, product), direct\") \n",
    "nacis5_desc = nlp(u\"This industry comprises establishments primarily engaged in assuming all or part of the risk associated with existing insurance policies originally underwritten by other insurance carriers.\")\n",
    "nacis6_desc = nlp(u\"This industry comprises establishments primarily engaged in drawing detailed layouts, plans, and illustrations of buildings, structures, systems, or components from engineering and architectural specifications.\")\n",
    "nacis7_desc = nlp(u\"This U.S. industry comprises establishments (except offices of CPAs) engaged in providing accounting services (except tax return preparation services only or payroll services only). These establishments may also provide tax return preparation or payroll services. Accountant (except CPA) offices, bookkeeper offices, and billing offices are included in this industry\")"
   ]
  },
  {
   "cell_type": "code",
   "execution_count": 160,
   "metadata": {},
   "outputs": [
    {
     "name": "stdout",
     "output_type": "stream",
     "text": [
      "0.9186700998198966\n",
      "0.922071168353192\n",
      "0.9392211943837969\n",
      "0.9091722079854976\n",
      "0.8982558058255535\n",
      "0.8305458292752665\n",
      "0.8888504882745218\n"
     ]
    }
   ],
   "source": [
    "print(comp1_desc.similarity(nacis1_desc))\n",
    "print(comp1_desc.similarity(nacis2_desc))\n",
    "print(comp1_desc.similarity(nacis3_desc))\n",
    "print(comp1_desc.similarity(nacis4_desc))\n",
    "print(comp1_desc.similarity(nacis5_desc))\n",
    "print(comp1_desc.similarity(nacis6_desc))\n",
    "print(comp1_desc.similarity(nacis7_desc))"
   ]
  },
  {
   "cell_type": "code",
   "execution_count": 133,
   "metadata": {},
   "outputs": [],
   "source": [
    "#Stacking and adding more context gave better scores compared to clubbing all context together."
   ]
  },
  {
   "cell_type": "code",
   "execution_count": 135,
   "metadata": {},
   "outputs": [],
   "source": [
    "#Try adding custom stop word removal patch with blocking concept"
   ]
  },
  {
   "cell_type": "code",
   "execution_count": 144,
   "metadata": {},
   "outputs": [
    {
     "name": "stdout",
     "output_type": "stream",
     "text": [
      "0.9066021293040396\n",
      "0.9066021293040396\n",
      "This was very strange argument between american and british person\n",
      "This was very strange argument between american and british person\n",
      "He was from Japan, but a true English gentleman in my eyes, and another one of the reasons as to why I liked going to school.\n",
      "He was from Japan , but a true English gentleman in my eyes , and another one of the reasons as to why I liked going to school .\n"
     ]
    }
   ],
   "source": [
    "search_doc = nlp(\"This was very strange argument between american and british person\")\n",
    "main_doc = nlp(\"He was from Japan, but a true English gentleman in my eyes, and another one of the reasons as to why I liked going to school.\")\n",
    "\n",
    "search_doc_no_stop_words = nlp(' '.join([str(t) for t in search_doc if not t.is_stop]))\n",
    "main_doc_no_stop_words = nlp(' '.join([str(t) for t in main_doc if not t.is_stop]))\n",
    "\n",
    "print(search_doc_no_stop_words.similarity(main_doc_no_stop_words))\n",
    "print(search_doc.similarity(main_doc))\n",
    "print(search_doc_no_stop_words)\n",
    "print(search_doc)\n",
    "print(main_doc)\n",
    "print(main_doc_no_stop_words)"
   ]
  },
  {
   "cell_type": "code",
   "execution_count": 148,
   "metadata": {},
   "outputs": [
    {
     "name": "stdout",
     "output_type": "stream",
     "text": [
      "Original Article: He was from Japan, but a true English gentleman in my eyes, and another one of the reasons as to why I liked going to school.\n",
      "\n",
      "['He', 'was', 'from', 'Japan', ',', 'but', 'a', 'true', 'English', 'gentleman', 'in', 'my', 'eyes', ',', 'and', 'another', 'one', 'of', 'the', 'reasons', 'as', 'to', 'why', 'I', 'liked', 'going', 'to', 'school', '.']\n"
     ]
    }
   ],
   "source": [
    "#doc = nlp(main_doc)\n",
    "tokens = [token.text for token in main_doc if not token.is_stop]\n",
    "print('Original Article: %s' % (main_doc))\n",
    "print()\n",
    "print(tokens)"
   ]
  },
  {
   "cell_type": "code",
   "execution_count": 162,
   "metadata": {},
   "outputs": [
    {
     "name": "stdout",
     "output_type": "stream",
     "text": [
      "Original Article: He was from Japan, but a true English gentleman in my eyes, and another one of the reasons as to why I liked going to school.\n",
      "\n",
      "['was', 'from', 'Japan', ',', 'but', 'a', 'true', 'English', 'gentleman', 'in', 'my', 'eyes', ',', 'and', 'another', 'one', 'of', 'the', 'reasons', 'as', 'to', 'why', 'I', 'liked', 'going', 'to', 'school', '.']\n"
     ]
    }
   ],
   "source": [
    "## Add custom stop words \n",
    "customize_stop_words = [\n",
    "    'computing', 'filtered', 'He'\n",
    "]\n",
    "for w in customize_stop_words:\n",
    "    nlp.vocab[w].is_stop = True\n",
    "#doc = spacy_nlp(article)\n",
    "tokens = [token.text for token in main_doc if not token.is_stop]\n",
    "print('Original Article: %s' % (main_doc))\n",
    "print()\n",
    "print(tokens)"
   ]
  },
  {
   "cell_type": "code",
   "execution_count": 166,
   "metadata": {},
   "outputs": [
    {
     "name": "stdout",
     "output_type": "stream",
     "text": [
      "0.8628615253705301\n",
      "0.9066021293040396\n",
      "was very strange argument between american british person\n",
      "This was very strange argument between american and british person\n",
      "He was from Japan, but a true English gentleman in my eyes, and another one of the reasons as to why I liked going to school.\n",
      "was Japan , true English gentleman in my eyes , another one of the reasons as to why liked going to school .\n"
     ]
    }
   ],
   "source": [
    "customize_stop_words = [\n",
    "    'This','and','from','I','but','a']\n",
    "for w in customize_stop_words:\n",
    "    nlp.vocab[w].is_stop = True\n",
    "#doc = spacy_nlp(article)\n",
    "\n",
    "search_doc = nlp(\"This was very strange argument between american and british person\")\n",
    "main_doc = nlp(\"He was from Japan, but a true English gentleman in my eyes, and another one of the reasons as to why I liked going to school.\")\n",
    "\n",
    "search_doc_no_stop_words = nlp(' '.join([str(t) for t in search_doc if not t.is_stop]))\n",
    "main_doc_no_stop_words = nlp(' '.join([str(t) for t in main_doc if not t.is_stop]))\n",
    "\n",
    "print(search_doc_no_stop_words.similarity(main_doc_no_stop_words))\n",
    "print(search_doc.similarity(main_doc))\n",
    "print(search_doc_no_stop_words)\n",
    "print(search_doc)\n",
    "print(main_doc)\n",
    "print(main_doc_no_stop_words)"
   ]
  },
  {
   "cell_type": "code",
   "execution_count": 167,
   "metadata": {},
   "outputs": [],
   "source": [
    "## Adding cross references in the original description - not effective.\n",
    "nacis1_desc = nlp(u\"524113 Direct Life Insurance Carriers. This U.S. industry comprises establishments primarily engaged in initially underwriting (i.e., assuming the risk and assigning premiums) annuities and life insurance policies, disability income insurance policies, and accidental death and dismemberment insurance policies.Establishments primarily engaged in reinsuring property and casualty insurance policies are classified in Industry 524130, Reinsurance Carriers.\")\n",
    "#right one for hartford\n",
    "nacis2_desc = nlp(u\"524126 Direct Insurance (except Life, Health, and Medical) Carriers .Direct Property and Casualty Insurance Carriers . This U.S. industry comprises establishments primarily engaged in initially underwriting (i.e., assuming the risk and assigning premiums) insurance policies that protect policyholders against losses that may occur as a result of property damage or liability.Establishments primarily engaged in reinsuring title insurance policies are classified in Industry 524130, Reinsurance Carriers\")   \n",
    "nacis_ref1 = nlp(u\"Establishments primarily engaged in reinsuring property and casualty insurance policies are classified in Industry 524130, Reinsurance Carriers.\")\n",
    "nacis_ref2 = nlp(u\"Establishments primarily engaged in reinsuring title insurance policies are classified in Industry 524130, Reinsurance Carriers\")\n",
    "\n",
    "nacis3_desc = nlp(u\"524127 Direct Insurance (except Life, Health, and Medical) Carriers . Direct Title Insurance Carriers  . This U.S. industry comprises establishments primarily engaged in initially underwriting (i.e., assuming the risk and assigning premiums) insurance policies to protect the owners of real estate or real estate creditors against loss sustained by reason of any title defect to real property.\") \n",
    "nacis4_desc = nlp(u\"524128 - This U.S. industry comprises establishments primarily engaged in initially underwriting (e.g., assuming the risk, assigning premiums) insurance policies (except life, disability income, accidental death and dismemberment, health and medical, property and casualty, and title insurance policies).Illustrative Examples:Bank deposit insurance carriers, direct,Product warranty insurance carriers, direct,Deposit or share insurance carriers, direct,Warranty insurance carriers (e.g., appliance, automobile, homeowners’, product), direct\") \n",
    "nacis5_desc = nlp(u\"This industry comprises establishments primarily engaged in assuming all or part of the risk associated with existing insurance policies originally underwritten by other insurance carriers.\")\n",
    "nacis6_desc = nlp(u\"This industry comprises establishments primarily engaged in drawing detailed layouts, plans, and illustrations of buildings, structures, systems, or components from engineering and architectural specifications.\")\n",
    "nacis7_desc = nlp(u\"This U.S. industry comprises establishments (except offices of CPAs) engaged in providing accounting services (except tax return preparation services only or payroll services only). These establishments may also provide tax return preparation or payroll services. Accountant (except CPA) offices, bookkeeper offices, and billing offices are included in this industry\")"
   ]
  },
  {
   "cell_type": "code",
   "execution_count": 172,
   "metadata": {},
   "outputs": [
    {
     "name": "stdout",
     "output_type": "stream",
     "text": [
      " and sometimes sentences are good\n",
      "\n",
      "              when that's sentence 4, there's a good reason\n"
     ]
    }
   ],
   "source": [
    "#Matching keywords in strings  - To subgroup\n",
    "text = '''this is sentence 1. and that is sentence\n",
    "              2. and sometimes sentences are good.\n",
    "              when that's sentence 4, there's a good reason. and that's \n",
    "              sentence 5.'''\n",
    "for line in text.split('.'):\n",
    "    if 'good' in line:\n",
    "        print(line)"
   ]
  },
  {
   "cell_type": "code",
   "execution_count": null,
   "metadata": {},
   "outputs": [],
   "source": [
    "#Census Bureau - https://www.census.gov/eos/www/naics/reference_files_tools/1997/sec52.htm"
   ]
  },
  {
   "cell_type": "code",
   "execution_count": 4,
   "metadata": {},
   "outputs": [
    {
     "name": "stdout",
     "output_type": "stream",
     "text": [
      "0.9000906380433863\n",
      "0.7824111033440442\n"
     ]
    }
   ],
   "source": [
    " \n",
    "doc1 = nlp(u\"This U.S. industry comprises establishments primarily engaged in initially underwriting (i.e., assuming the risk and assigning premiums) insurance policies that protect policyholders against losses that may occur as a result of property damage or liability.Automobile insurance carriers, direct Property and casualty insurance carriers, direct Bank deposit insurance carriers, direct Title insurance carriers, real estate\")\n",
    "doc2 = nlp(u\"The Government Employees Insurance Company is an American auto insurance company with headquarters in Maryland. It is the second largest auto insurer in the United States, after State Farm\")\n",
    "print(doc1.similarity(doc2))\n",
    "doc3 = nlp(u\"ACADIA Pharmaceuticals Inc. operates as a biopharmaceutical company focuses on the discovery, development, and commercialization of small molecule drugs for the treatment of central nervous system disorders. The Company specializes in the treatment of induced dysfunction in parkinson's disease schizophrenia, neuropathic pain, and glauco\")\n",
    "print(doc1.similarity(doc3))\n",
    "\n",
    "#Dont pick up private ones - use publicly available companies\n"
   ]
  }
 ],
 "metadata": {
  "kernelspec": {
   "display_name": "Python 3",
   "language": "python",
   "name": "python3"
  },
  "language_info": {
   "codemirror_mode": {
    "name": "ipython",
    "version": 3
   },
   "file_extension": ".py",
   "mimetype": "text/x-python",
   "name": "python",
   "nbconvert_exporter": "python",
   "pygments_lexer": "ipython3",
   "version": "3.7.3"
  }
 },
 "nbformat": 4,
 "nbformat_minor": 2
}
